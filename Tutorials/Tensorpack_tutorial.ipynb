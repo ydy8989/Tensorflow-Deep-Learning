{
 "cells": [
  {
   "cell_type": "markdown",
   "metadata": {},
   "source": [
    "# Tensorpack tutorial \n",
    "#### In this tutorial, we are going to cover following steps.\n",
    "* **Data Loading** (Dataflow)\n",
    "* **Build a model**\n",
    "* **Training & test** (CPU, GPU, or MultiGPU)\n",
    "* **Trasfer learning** (Loading a saved Model and training it agiain)\n",
    "* **Evaluation** (Loading a saved Model and test it)\n",
    "\n",
    "#### You can find more detailed descriptions by function in [here](https://tensorpack.readthedocs.io/modules/index.html)."
   ]
  },
  {
   "cell_type": "code",
   "execution_count": 2,
   "metadata": {
    "scrolled": true
   },
   "outputs": [],
   "source": [
    "import cv2           # for AugmentImageComponent\n",
    "import multiprocessing\n",
    "import tensorflow as tf\n",
    "import matplotlib.pyplot as plt\n",
    "import matplotlib.image as mpimg\n",
    "\n",
    "from tensorpack import *\n",
    "from tensorpack.dataflow import *\n",
    "from tensorpack.tfutils import summary"
   ]
  },
  {
   "cell_type": "markdown",
   "metadata": {},
   "source": [
    "## 1. Get DataFlow\n",
    "* You can **augment** your data in here.\n",
    "* `Keywords`: **dataflow**, **imgaug**, **AugmentImageComponent**, **BatchData**, **PrefetchDataZMQ**"
   ]
  },
  {
   "cell_type": "code",
   "execution_count": 3,
   "metadata": {
    "collapsed": true
   },
   "outputs": [],
   "source": [
    "def get_dataflow(batch_size, is_train='train'):\n",
    "    df = dataset.Mnist(is_train, shuffle=True)\n",
    "    istrain = is_train == 'train'\n",
    "    \n",
    "    # ----- Image Augmentation Options -------- #\n",
    "    if istrain:\n",
    "        augs = [\n",
    "            #   imgaug.CenterCrop(256, 256),\n",
    "            #   imgaug.Resize((225, 225)),\n",
    "            #   imgaug.Grayscale(keepdims=True),\n",
    "            #   imgaug.Flip(horiz=True, vert=False, prob=0.5),\n",
    "        ]\n",
    "    else:\n",
    "        augs = [\n",
    "            #   imgaug.CenterCrop(256, 256),\n",
    "            #   imgaug.Resize((225, 225)),\n",
    "        ]\n",
    "    df = AugmentImageComponent(df, augs)\n",
    "    # group data into batches of size 128\n",
    "    df = BatchData(df, batch_size)\n",
    "    # start 3 processes to run the dataflow in parallel\n",
    "    # df = PrefetchDataZMQ(df, 10, multiprocessing.cpu_count())\n",
    "    return df"
   ]
  },
  {
   "cell_type": "markdown",
   "metadata": {},
   "source": [
    "### See the data"
   ]
  },
  {
   "cell_type": "code",
   "execution_count": 4,
   "metadata": {},
   "outputs": [
    {
     "name": "stdout",
     "output_type": "stream",
     "text": [
      "\u001b[32m[0815 23:16:53 @fs.py:100]\u001b[0m \u001b[5m\u001b[31mWRN\u001b[0m Env var $TENSORPACK_DATASET not set, using /Users/chayesol/tensorpack_data for datasets.\n"
     ]
    },
    {
     "data": {
      "image/png": "[encoded data removed]",
      "text/plain": [
       "<Figure size 2016x2016 with 4 Axes>"
      ]
     },
     "metadata": {},
     "output_type": "display_data"
    }
   ],
   "source": [
    "df = get_dataflow(4, 'train')\n",
    "df.reset_state()\n",
    "\n",
    "fig =plt.figure(figsize=(28, 28))\n",
    "\n",
    "for idx, dp in enumerate(df.get_data()):\n",
    "    if idx == 0:\n",
    "        for i in range(4):\n",
    "            img = dp[idx][i]\n",
    "            fig.add_subplot(1, 4, i + 1)\n",
    "            plt.imshow(img, cmap='gray')\n",
    "        plt.show()\n",
    "    break"
   ]
  },
  {
   "cell_type": "markdown",
   "metadata": {},
   "source": [
    "## 2. Model \n",
    "#### Model includes Loss function & Optimizer\n",
    "* Description of ModelDesc at [here]( https://tensorpack.readthedocs.io/modules/graph_builder.html#tensorpack.graph_builder.ModelDesc).\n",
    "* `Keywords`: **ModelDesc**\n"
   ]
  },
  {
   "cell_type": "code",
   "execution_count": 5,
   "metadata": {
    "collapsed": true
   },
   "outputs": [],
   "source": [
    "class Model(ModelDesc):\n",
    "    \n",
    "    def inputs(self):\n",
    "        \"\"\"\n",
    "        Define input shape\n",
    "        \"\"\"\n",
    "        return [tf.placeholder(tf.float32, [None, 28, 28], 'input'),\n",
    "                tf.placeholder(tf.int32, [None], 'label')]\n",
    "\n",
    "    def build_graph(self, image, label):\n",
    "        \"\"\"\n",
    "        Build the model which takes the input and return cost. \n",
    "        \"\"\"\n",
    "        # NHW to NHWC\n",
    "        image = tf.expand_dims(image, 3)\n",
    "\n",
    "        with argscope(Conv2D, kernel_size=3, activation=tf.nn.relu):\n",
    "            with tf.name_scope('layer') as scope:\n",
    "                logits = (LinearWrap(image)\n",
    "                          .Conv2D('conv0', 32)\n",
    "                          .MaxPooling('pool0', 2)\n",
    "                          .Dropout('dropout', rate=0.7)\n",
    "                          .Conv2D('conv1', 64)\n",
    "                          .MaxPooling('pool1', 2)\n",
    "                          .Dropout('dropout', rate=0.7)\n",
    "                          .Conv2D('conv2', 128)\n",
    "                          .MaxPooling('pool2', 2)\n",
    "                          .Dropout('dropout', rate=0.7)\n",
    "                          .FullyConnected('fc1', units=10,\n",
    "                                          activation=tf.identity)())\n",
    "        \n",
    "        # Cost function\n",
    "        cost = tf.reduce_mean(\n",
    "            tf.nn.sparse_softmax_cross_entropy_with_logits(logits=logits, \n",
    "                                                           labels=label),\n",
    "            name='Loss')\n",
    "        \n",
    "        correct = tf.cast(tf.equal(tf.argmax(logits, -1, \n",
    "                                             output_type=tf.int32), \n",
    "                                   label),\n",
    "                          tf.float32)\n",
    "        accuracy = tf.reduce_mean(correct, name='accuracy')\n",
    "        train_error = tf.reduce_mean(1 - correct, name='train_error')\n",
    "        \n",
    "        summary.add_moving_summary(train_error, accuracy)\n",
    "        return cost\n",
    "\n",
    "    def optimizer(self):\n",
    "        lr = tf.train.exponential_decay(\n",
    "            learning_rate=0.001,\n",
    "            global_step=get_global_step_var(),\n",
    "            decay_steps=468 * 10,\n",
    "            decay_rate=0.3, staircase=True, name='learning_rate')\n",
    "        # for tensorboard.\n",
    "        tf.summary.scalar('lr', lr)\n",
    "        return tf.train.AdamOptimizer(lr)"
   ]
  },
  {
   "cell_type": "markdown",
   "metadata": {},
   "source": [
    "## 3. main.py\n",
    "#### `logger` for tensorboard, `TrainConfig` for model configuration including model saver.\n",
    "* If you use **auto_set_dir()**, it makes a **`'train_log'`** directory and makes another directory in it \n",
    "   with the same name of file.py. You can see the scalars with tensorboard at there."
   ]
  },
  {
   "cell_type": "markdown",
   "metadata": {},
   "source": [
    "### Tensorboard and datasets "
   ]
  },
  {
   "cell_type": "code",
   "execution_count": 6,
   "metadata": {},
   "outputs": [
    {
     "name": "stdout",
     "output_type": "stream",
     "text": [
      "\u001b[32m[0815 23:17:02 @logger.py:74]\u001b[0m Argv: /anaconda/lib/python3.6/site-packages/ipykernel_launcher.py -f /Users/chayesol/Library/Jupyter/runtime/kernel-77dfb712-6db0-48b7-9ba0-fe6d52be50d7.json\n"
     ]
    }
   ],
   "source": [
    "# for tensorboard \n",
    "logger.set_logger_dir('./mnist_result')\n",
    "# logger.auto_set_dir()"
   ]
  },
  {
   "cell_type": "code",
   "execution_count": 7,
   "metadata": {
    "collapsed": true
   },
   "outputs": [],
   "source": [
    "# dataset\n",
    "df = get_dataflow(100, 'train')\n",
    "df_test = get_dataflow(100, 'test')\n",
    "\n",
    "df.reset_state()\n",
    "df_test.reset_state()\n",
    "steps_per_epoch = df.size()"
   ]
  },
  {
   "cell_type": "markdown",
   "metadata": {},
   "source": [
    "### Training\n",
    "* `Keywords`: **TrainConfig**, **launch_train_with_config**, **SimpleTrainer**, **SyncMultiGPUTrainer**."
   ]
  },
  {
   "cell_type": "code",
   "execution_count": 8,
   "metadata": {
    "scrolled": true
   },
   "outputs": [
    {
     "name": "stdout",
     "output_type": "stream",
     "text": [
      "\u001b[32m[0815 23:17:06 @input_source.py:205]\u001b[0m Setting up the queue 'QueueInput/input_queue' for CPU prefetching ...\n",
      "\u001b[32m[0815 23:17:06 @trainers.py:51]\u001b[0m Building graph for a single training tower ...\n",
      "\u001b[32m[0815 23:17:06 @registry.py:121]\u001b[0m conv0 input: [None, 28, 28, 1]\n",
      "\u001b[32m[0815 23:17:06 @registry.py:129]\u001b[0m conv0 output: [None, 28, 28, 32]\n",
      "\u001b[32m[0815 23:17:06 @registry.py:121]\u001b[0m pool0 input: [None, 28, 28, 32]\n",
      "\u001b[32m[0815 23:17:06 @registry.py:129]\u001b[0m pool0 output: [None, 14, 14, 32]\n",
      "\u001b[32m[0815 23:17:06 @registry.py:121]\u001b[0m conv1 input: [None, 14, 14, 32]\n",
      "\u001b[32m[0815 23:17:06 @registry.py:129]\u001b[0m conv1 output: [None, 14, 14, 64]\n",
      "\u001b[32m[0815 23:17:06 @registry.py:121]\u001b[0m pool1 input: [None, 14, 14, 64]\n",
      "\u001b[32m[0815 23:17:06 @registry.py:129]\u001b[0m pool1 output: [None, 7, 7, 64]\n",
      "\u001b[32m[0815 23:17:06 @registry.py:121]\u001b[0m conv2 input: [None, 7, 7, 64]\n",
      "\u001b[32m[0815 23:17:06 @registry.py:129]\u001b[0m conv2 output: [None, 7, 7, 128]\n",
      "\u001b[32m[0815 23:17:06 @registry.py:121]\u001b[0m pool2 input: [None, 7, 7, 128]\n",
      "\u001b[32m[0815 23:17:06 @registry.py:129]\u001b[0m pool2 output: [None, 3, 3, 128]\n",
      "\u001b[32m[0815 23:17:06 @registry.py:121]\u001b[0m fc1 input: [None, 3, 3, 128]\n",
      "\u001b[32m[0815 23:17:06 @registry.py:129]\u001b[0m fc1 output: [None, 10]\n",
      "\u001b[32m[0815 23:17:06 @model_utils.py:64]\u001b[0m \u001b[36mTrainable Variables: \n",
      "\u001b[0mname       shape              dim\n",
      "---------  ---------------  -----\n",
      "conv0/W:0  [3, 3, 1, 32]      288\n",
      "conv0/b:0  [32]                32\n",
      "conv1/W:0  [3, 3, 32, 64]   18432\n",
      "conv1/b:0  [64]                64\n",
      "conv2/W:0  [3, 3, 64, 128]  73728\n",
      "conv2/b:0  [128]              128\n",
      "fc1/W:0    [1152, 10]       11520\n",
      "fc1/b:0    [10]                10\u001b[36m\n",
      "Total #vars=8, #params=104202, size=0.40MB\u001b[0m\n",
      "\u001b[32m[0815 23:17:06 @base.py:187]\u001b[0m Setup callbacks graph ...\n",
      "\u001b[32m[0815 23:17:06 @inference_runner.py:146]\u001b[0m [InferenceRunner] Building tower 'InferenceTower' on device /gpu:0 ...\n",
      "\u001b[32m[0815 23:17:06 @summary.py:38]\u001b[0m Maintain moving average summary of 2 tensors in collection MOVING_SUMMARY_OPS.\n",
      "\u001b[32m[0815 23:17:06 @summary.py:75]\u001b[0m Summarizing collection 'summaries' of size 4.\n",
      "\u001b[32m[0815 23:17:06 @base.py:205]\u001b[0m Creating the session ...\n",
      "INFO:tensorflow:Graph was finalized.\n",
      "INFO:tensorflow:Running local_init_op.\n",
      "INFO:tensorflow:Done running local_init_op.\n",
      "\u001b[32m[0815 23:17:07 @base.py:211]\u001b[0m Initializing the session ...\n",
      "\u001b[32m[0815 23:17:07 @base.py:218]\u001b[0m Graph Finalized.\n",
      "\u001b[32m[0815 23:17:07 @concurrency.py:37]\u001b[0m Starting EnqueueThread QueueInput/input_queue ...\n",
      "\u001b[32m[0815 23:17:07 @inference_runner.py:101]\u001b[0m [InferenceRunner] Will eval 100 iterations\n",
      "\u001b[32m[0815 23:17:07 @base.py:250]\u001b[0m Start Epoch 1 ...\n"
     ]
    },
    {
     "name": "stderr",
     "output_type": "stream",
     "text": [
      "100%|##########|600/600[01:11<00:00, 8.37it/s]"
     ]
    },
    {
     "name": "stdout",
     "output_type": "stream",
     "text": [
      "\u001b[32m[0815 23:18:18 @base.py:260]\u001b[0m Epoch 1 (global_step 600) finished, time:1 minute 11 seconds.\n",
      "\u001b[32m[0815 23:18:18 @saver.py:77]\u001b[0m Model saved to ./mnist_result/model-600.\n"
     ]
    },
    {
     "name": "stderr",
     "output_type": "stream",
     "text": [
      "\n",
      "100%|##########|100/100[00:04<00:00,23.28it/s]"
     ]
    },
    {
     "name": "stdout",
     "output_type": "stream",
     "text": [
      "\u001b[32m[0815 23:18:23 @monitor.py:435]\u001b[0m QueueInput/queue_size: 50\n",
      "\u001b[32m[0815 23:18:23 @monitor.py:435]\u001b[0m accuracy: 0.66153\n",
      "\u001b[32m[0815 23:18:23 @monitor.py:435]\u001b[0m lr: 0.001\n",
      "\u001b[32m[0815 23:18:23 @monitor.py:435]\u001b[0m train_error: 0.33847\n",
      "\u001b[32m[0815 23:18:23 @monitor.py:435]\u001b[0m validation_Loss: 0.88131\n",
      "\u001b[32m[0815 23:18:23 @monitor.py:435]\u001b[0m validation_accuracy: 0.8709\n",
      "\u001b[32m[0815 23:18:23 @group.py:48]\u001b[0m Callbacks took 4.337 sec in total. InferenceRunner: 4.3 seconds\n",
      "\u001b[32m[0815 23:18:23 @base.py:250]\u001b[0m Start Epoch 2 ...\n"
     ]
    },
    {
     "name": "stderr",
     "output_type": "stream",
     "text": [
      "\n",
      "100%|##########|600/600[01:19<00:00, 8.06it/s]"
     ]
    },
    {
     "name": "stdout",
     "output_type": "stream",
     "text": [
      "\u001b[32m[0815 23:19:42 @base.py:260]\u001b[0m Epoch 2 (global_step 1200) finished, time:1 minute 19 seconds.\n",
      "\u001b[32m[0815 23:19:42 @saver.py:77]\u001b[0m Model saved to ./mnist_result/model-1200.\n"
     ]
    },
    {
     "name": "stderr",
     "output_type": "stream",
     "text": [
      "\n",
      "100%|##########|100/100[00:04<00:00,24.81it/s]"
     ]
    },
    {
     "name": "stdout",
     "output_type": "stream",
     "text": [
      "\u001b[32m[0815 23:19:46 @monitor.py:435]\u001b[0m QueueInput/queue_size: 50\n",
      "\u001b[32m[0815 23:19:46 @monitor.py:435]\u001b[0m accuracy: 0.82476\n",
      "\u001b[32m[0815 23:19:46 @monitor.py:435]\u001b[0m lr: 0.001\n",
      "\u001b[32m[0815 23:19:46 @monitor.py:435]\u001b[0m train_error: 0.17524\n",
      "\u001b[32m[0815 23:19:46 @monitor.py:435]\u001b[0m validation_Loss: 0.35229\n",
      "\u001b[32m[0815 23:19:46 @monitor.py:435]\u001b[0m validation_accuracy: 0.9368\n",
      "\u001b[32m[0815 23:19:46 @group.py:48]\u001b[0m Callbacks took 4.056 sec in total. InferenceRunner: 4.03 seconds\n",
      "\u001b[32m[0815 23:19:46 @base.py:250]\u001b[0m Start Epoch 3 ...\n"
     ]
    },
    {
     "name": "stderr",
     "output_type": "stream",
     "text": [
      "\n",
      "100%|##########|600/600[01:24<00:00, 7.34it/s]"
     ]
    },
    {
     "name": "stdout",
     "output_type": "stream",
     "text": [
      "\u001b[32m[0815 23:21:11 @base.py:260]\u001b[0m Epoch 3 (global_step 1800) finished, time:1 minute 24 seconds.\n",
      "\u001b[32m[0815 23:21:11 @saver.py:77]\u001b[0m Model saved to ./mnist_result/model-1800.\n"
     ]
    },
    {
     "name": "stderr",
     "output_type": "stream",
     "text": [
      "\n",
      "100%|##########|100/100[00:04<00:00,22.07it/s]"
     ]
    },
    {
     "name": "stdout",
     "output_type": "stream",
     "text": [
      "\u001b[32m[0815 23:21:15 @monitor.py:435]\u001b[0m QueueInput/queue_size: 50\n",
      "\u001b[32m[0815 23:21:15 @monitor.py:435]\u001b[0m accuracy: 0.87428\n",
      "\u001b[32m[0815 23:21:15 @monitor.py:435]\u001b[0m lr: 0.001\n",
      "\u001b[32m[0815 23:21:15 @monitor.py:435]\u001b[0m train_error: 0.12572\n",
      "\u001b[32m[0815 23:21:15 @monitor.py:435]\u001b[0m validation_Loss: 0.19803\n",
      "\u001b[32m[0815 23:21:15 @monitor.py:435]\u001b[0m validation_accuracy: 0.9617\n",
      "\u001b[32m[0815 23:21:15 @group.py:48]\u001b[0m Callbacks took 4.574 sec in total. InferenceRunner: 4.53 seconds\n",
      "\u001b[32m[0815 23:21:15 @base.py:250]\u001b[0m Start Epoch 4 ...\n"
     ]
    },
    {
     "name": "stderr",
     "output_type": "stream",
     "text": [
      "\n",
      "100%|##########|600/600[01:10<00:00, 8.49it/s]"
     ]
    },
    {
     "name": "stdout",
     "output_type": "stream",
     "text": [
      "\u001b[32m[0815 23:22:26 @base.py:260]\u001b[0m Epoch 4 (global_step 2400) finished, time:1 minute 10 seconds.\n",
      "\u001b[32m[0815 23:22:26 @saver.py:77]\u001b[0m Model saved to ./mnist_result/model-2400.\n"
     ]
    },
    {
     "name": "stderr",
     "output_type": "stream",
     "text": [
      "\n",
      "100%|##########|100/100[00:03<00:00,26.14it/s]"
     ]
    },
    {
     "name": "stdout",
     "output_type": "stream",
     "text": [
      "\u001b[32m[0815 23:22:30 @monitor.py:435]\u001b[0m QueueInput/queue_size: 50\n",
      "\u001b[32m[0815 23:22:30 @monitor.py:435]\u001b[0m accuracy: 0.9054\n",
      "\u001b[32m[0815 23:22:30 @monitor.py:435]\u001b[0m lr: 0.001\n"
     ]
    },
    {
     "name": "stderr",
     "output_type": "stream",
     "text": [
      "\n"
     ]
    },
    {
     "name": "stdout",
     "output_type": "stream",
     "text": [
      "\u001b[32m[0815 23:22:30 @monitor.py:435]\u001b[0m train_error: 0.094598\n",
      "\u001b[32m[0815 23:22:30 @monitor.py:435]\u001b[0m validation_Loss: 0.13497\n",
      "\u001b[32m[0815 23:22:30 @monitor.py:435]\u001b[0m validation_accuracy: 0.9703\n",
      "\u001b[32m[0815 23:22:30 @group.py:48]\u001b[0m Callbacks took 3.852 sec in total. InferenceRunner: 3.83 seconds\n",
      "\u001b[32m[0815 23:22:30 @base.py:250]\u001b[0m Start Epoch 5 ...\n"
     ]
    },
    {
     "name": "stderr",
     "output_type": "stream",
     "text": [
      "100%|##########|600/600[01:14<00:00, 8.05it/s]"
     ]
    },
    {
     "name": "stdout",
     "output_type": "stream",
     "text": [
      "\u001b[32m[0815 23:23:44 @base.py:260]\u001b[0m Epoch 5 (global_step 3000) finished, time:1 minute 14 seconds.\n",
      "\u001b[32m[0815 23:23:44 @saver.py:77]\u001b[0m Model saved to ./mnist_result/model-3000.\n"
     ]
    },
    {
     "name": "stderr",
     "output_type": "stream",
     "text": [
      "\n",
      "100%|##########|100/100[00:04<00:00,23.87it/s]"
     ]
    },
    {
     "name": "stdout",
     "output_type": "stream",
     "text": [
      "\u001b[32m[0815 23:23:48 @monitor.py:435]\u001b[0m QueueInput/queue_size: 50\n",
      "\u001b[32m[0815 23:23:48 @monitor.py:435]\u001b[0m accuracy: 0.91092\n",
      "\u001b[32m[0815 23:23:48 @monitor.py:435]\u001b[0m lr: 0.001\n",
      "\u001b[32m[0815 23:23:48 @monitor.py:435]\u001b[0m train_error: 0.089081\n",
      "\u001b[32m[0815 23:23:48 @monitor.py:435]\u001b[0m validation_Loss: 0.11393\n",
      "\u001b[32m[0815 23:23:48 @monitor.py:435]\u001b[0m validation_accuracy: 0.9757\n",
      "\u001b[32m[0815 23:23:48 @group.py:48]\u001b[0m Callbacks took 4.238 sec in total. InferenceRunner: 4.21 seconds\n",
      "\u001b[32m[0815 23:23:48 @base.py:250]\u001b[0m Start Epoch 6 ...\n"
     ]
    },
    {
     "name": "stderr",
     "output_type": "stream",
     "text": [
      "\n",
      "100%|##########|600/600[01:17<00:00, 7.73it/s]"
     ]
    },
    {
     "name": "stdout",
     "output_type": "stream",
     "text": [
      "\u001b[32m[0815 23:25:06 @base.py:260]\u001b[0m Epoch 6 (global_step 3600) finished, time:1 minute 17 seconds.\n",
      "\u001b[32m[0815 23:25:06 @saver.py:77]\u001b[0m Model saved to ./mnist_result/model-3600.\n"
     ]
    },
    {
     "name": "stderr",
     "output_type": "stream",
     "text": [
      "\n",
      "100%|##########|100/100[00:04<00:00,23.92it/s]"
     ]
    },
    {
     "name": "stdout",
     "output_type": "stream",
     "text": [
      "\u001b[32m[0815 23:25:10 @monitor.py:435]\u001b[0m QueueInput/queue_size: 50\n",
      "\u001b[32m[0815 23:25:10 @monitor.py:435]\u001b[0m accuracy: 0.92217\n",
      "\u001b[32m[0815 23:25:10 @monitor.py:435]\u001b[0m lr: 0.001\n",
      "\u001b[32m[0815 23:25:10 @monitor.py:435]\u001b[0m train_error: 0.077829\n",
      "\u001b[32m[0815 23:25:10 @monitor.py:435]\u001b[0m validation_Loss: 0.09538\n",
      "\u001b[32m[0815 23:25:10 @monitor.py:435]\u001b[0m validation_accuracy: 0.978\n",
      "\u001b[32m[0815 23:25:10 @group.py:48]\u001b[0m Callbacks took 4.209 sec in total. InferenceRunner: 4.18 seconds\n",
      "\u001b[32m[0815 23:25:10 @base.py:250]\u001b[0m Start Epoch 7 ...\n"
     ]
    },
    {
     "name": "stderr",
     "output_type": "stream",
     "text": [
      "\n",
      "100%|##########|600/600[01:14<00:00, 8.00it/s]"
     ]
    },
    {
     "name": "stdout",
     "output_type": "stream",
     "text": [
      "\u001b[32m[0815 23:26:25 @base.py:260]\u001b[0m Epoch 7 (global_step 4200) finished, time:1 minute 14 seconds.\n",
      "\u001b[32m[0815 23:26:25 @saver.py:77]\u001b[0m Model saved to ./mnist_result/model-4200.\n"
     ]
    },
    {
     "name": "stderr",
     "output_type": "stream",
     "text": [
      "\n",
      "100%|##########|100/100[00:04<00:00,24.14it/s]"
     ]
    },
    {
     "name": "stdout",
     "output_type": "stream",
     "text": [
      "\u001b[32m[0815 23:26:29 @monitor.py:435]\u001b[0m QueueInput/queue_size: 50\n",
      "\u001b[32m[0815 23:26:29 @monitor.py:435]\u001b[0m accuracy: 0.92945\n",
      "\u001b[32m[0815 23:26:29 @monitor.py:435]\u001b[0m lr: 0.001\n",
      "\u001b[32m[0815 23:26:29 @monitor.py:435]\u001b[0m train_error: 0.070552\n",
      "\u001b[32m[0815 23:26:29 @monitor.py:435]\u001b[0m validation_Loss: 0.085823\n",
      "\u001b[32m[0815 23:26:29 @monitor.py:435]\u001b[0m validation_accuracy: 0.9814\n",
      "\u001b[32m[0815 23:26:29 @group.py:48]\u001b[0m Callbacks took 4.169 sec in total. InferenceRunner: 4.15 seconds\n",
      "\u001b[32m[0815 23:26:29 @base.py:250]\u001b[0m Start Epoch 8 ...\n"
     ]
    },
    {
     "name": "stderr",
     "output_type": "stream",
     "text": [
      "\n",
      "100%|##########|600/600[01:17<00:00, 7.78it/s]"
     ]
    },
    {
     "name": "stdout",
     "output_type": "stream",
     "text": [
      "\u001b[32m[0815 23:27:47 @base.py:260]\u001b[0m Epoch 8 (global_step 4800) finished, time:1 minute 17 seconds.\n",
      "\u001b[32m[0815 23:27:47 @saver.py:77]\u001b[0m Model saved to ./mnist_result/model-4800.\n"
     ]
    },
    {
     "name": "stderr",
     "output_type": "stream",
     "text": [
      "\n",
      "100%|##########|100/100[00:04<00:00,22.91it/s]"
     ]
    },
    {
     "name": "stdout",
     "output_type": "stream",
     "text": [
      "\u001b[32m[0815 23:27:52 @monitor.py:435]\u001b[0m QueueInput/queue_size: 50\n",
      "\u001b[32m[0815 23:27:52 @monitor.py:435]\u001b[0m accuracy: 0.9334\n",
      "\u001b[32m[0815 23:27:52 @monitor.py:435]\u001b[0m lr: 0.0003\n",
      "\u001b[32m[0815 23:27:52 @monitor.py:435]\u001b[0m train_error: 0.066598\n",
      "\u001b[32m[0815 23:27:52 @monitor.py:435]\u001b[0m validation_Loss: 0.070099\n",
      "\u001b[32m[0815 23:27:52 @monitor.py:435]\u001b[0m validation_accuracy: 0.984\n",
      "\u001b[32m[0815 23:27:52 @group.py:48]\u001b[0m Callbacks took 4.390 sec in total. InferenceRunner: 4.37 seconds\n",
      "\u001b[32m[0815 23:27:52 @base.py:250]\u001b[0m Start Epoch 9 ...\n"
     ]
    },
    {
     "name": "stderr",
     "output_type": "stream",
     "text": [
      "\n",
      "100%|##########|600/600[01:16<00:00, 7.85it/s]"
     ]
    },
    {
     "name": "stdout",
     "output_type": "stream",
     "text": [
      "\u001b[32m[0815 23:29:08 @base.py:260]\u001b[0m Epoch 9 (global_step 5400) finished, time:1 minute 16 seconds.\n",
      "\u001b[32m[0815 23:29:08 @saver.py:77]\u001b[0m Model saved to ./mnist_result/model-5400.\n"
     ]
    },
    {
     "name": "stderr",
     "output_type": "stream",
     "text": [
      "\n",
      "100%|##########|100/100[00:04<00:00,20.40it/s]"
     ]
    },
    {
     "name": "stdout",
     "output_type": "stream",
     "text": [
      "\u001b[32m[0815 23:29:13 @monitor.py:435]\u001b[0m QueueInput/queue_size: 50\n",
      "\u001b[32m[0815 23:29:13 @monitor.py:435]\u001b[0m accuracy: 0.93811\n",
      "\u001b[32m[0815 23:29:13 @monitor.py:435]\u001b[0m lr: 0.0003\n",
      "\u001b[32m[0815 23:29:13 @monitor.py:435]\u001b[0m train_error: 0.061893\n",
      "\u001b[32m[0815 23:29:13 @monitor.py:435]\u001b[0m validation_Loss: 0.067997\n",
      "\u001b[32m[0815 23:29:13 @monitor.py:435]\u001b[0m validation_accuracy: 0.9843\n",
      "\u001b[32m[0815 23:29:13 @group.py:48]\u001b[0m Callbacks took 4.934 sec in total. InferenceRunner: 4.9 seconds\n",
      "\u001b[32m[0815 23:29:13 @base.py:250]\u001b[0m Start Epoch 10 ...\n"
     ]
    },
    {
     "name": "stderr",
     "output_type": "stream",
     "text": [
      "\n",
      "100%|##########|600/600[01:26<00:00, 6.96it/s]"
     ]
    },
    {
     "name": "stdout",
     "output_type": "stream",
     "text": [
      "\u001b[32m[0815 23:30:39 @base.py:260]\u001b[0m Epoch 10 (global_step 6000) finished, time:1 minute 26 seconds.\n",
      "\u001b[32m[0815 23:30:39 @saver.py:77]\u001b[0m Model saved to ./mnist_result/model-6000.\n"
     ]
    },
    {
     "name": "stderr",
     "output_type": "stream",
     "text": [
      "\n",
      "100%|##########|100/100[00:04<00:00,22.27it/s]"
     ]
    },
    {
     "name": "stdout",
     "output_type": "stream",
     "text": [
      "\u001b[32m[0815 23:30:44 @monitor.py:435]\u001b[0m QueueInput/queue_size: 50\n",
      "\u001b[32m[0815 23:30:44 @monitor.py:435]\u001b[0m accuracy: 0.94331\n",
      "\u001b[32m[0815 23:30:44 @monitor.py:435]\u001b[0m lr: 0.0003\n",
      "\u001b[32m[0815 23:30:44 @monitor.py:435]\u001b[0m train_error: 0.056693\n",
      "\u001b[32m[0815 23:30:44 @monitor.py:435]\u001b[0m validation_Loss: 0.064552\n",
      "\u001b[32m[0815 23:30:44 @monitor.py:435]\u001b[0m validation_accuracy: 0.9852\n",
      "\u001b[32m[0815 23:30:44 @group.py:48]\u001b[0m Callbacks took 4.521 sec in total. InferenceRunner: 4.5 seconds\n",
      "\u001b[32m[0815 23:30:44 @base.py:264]\u001b[0m Training has finished!\n"
     ]
    },
    {
     "name": "stderr",
     "output_type": "stream",
     "text": [
      "\n"
     ]
    },
    {
     "name": "stdout",
     "output_type": "stream",
     "text": [
      "\u001b[32m[0815 23:30:44 @input_source.py:160]\u001b[0m EnqueueThread QueueInput/input_queue Exited.\n"
     ]
    }
   ],
   "source": [
    "\"\"\"\n",
    "Configuration containing everything necessary in a training.\n",
    "\"\"\"\n",
    "config = TrainConfig(\n",
    "    model = Model(),\n",
    "    data = QueueInput(df),\n",
    "    callbacks = [\n",
    "        # save the model after every epoch\n",
    "        ModelSaver(checkpoint_dir='./mnist_result'),\n",
    "        InferenceRunner(\n",
    "            df_test,\n",
    "            ScalarStats(['Loss', 'accuracy'])),\n",
    "            #  ScheduledHyperParamSetter('learning_rate',\n",
    "            #                            [(1, 0.1), \n",
    "            #                             (300, 0.01), \n",
    "            #                             (500, 0.001)])\n",
    "    ],\n",
    "    steps_per_epoch = steps_per_epoch,\n",
    "    max_epoch = 10,\n",
    ")\n",
    "\n",
    "# training with CPU or GPU?\n",
    "if tf.test.gpu_device_name():\n",
    "    launch_train_with_config(config, SyncMultiGPUTrainer(4))\n",
    "else:\n",
    "    launch_train_with_config(config, SimpleTrainer())"
   ]
  },
  {
   "cell_type": "markdown",
   "metadata": {
    "collapsed": true
   },
   "source": [
    "## 5. Loading The Saved Model \n",
    "#### Loading saved model and learning 5 epochs more.\n",
    "##### In tensorflow, \n",
    "* **`.meta`** file means **the structure** of model, \n",
    "    all **variables, and operations.** \n",
    "* **`index`** means a binary file contating **weights, biases, and gradients**.\n",
    "\n",
    "* We are going to use **`PredictConfig`** to evaluate the loaded and more trained model."
   ]
  },
  {
   "cell_type": "markdown",
   "metadata": {
    "slideshow": {
     "slide_type": "-"
    }
   },
   "source": [
    "### Transfer Learning\n",
    "* If you have any trouble with it, then consider **`logger.set_logger_dir(path_to_saved_model)`** carefully.\n",
    "* `Keywords`: **AutoResumeTrainConfig**, **sesseion_init**, **get_model_loader**"
   ]
  },
  {
   "cell_type": "code",
   "execution_count": 10,
   "metadata": {
    "scrolled": true
   },
   "outputs": [
    {
     "name": "stdout",
     "output_type": "stream",
     "text": [
      "\u001b[32m[0814 17:38:06 @varmanip.py:182]\u001b[0m Checkpoint path ./mnist_result/model-6000.index is auto-corrected to ./mnist_result/model-6000.\n",
      "\u001b[32m[0814 17:38:06 @config.py:215]\u001b[0m Found checkpoint at ./mnist_result/model-6000. session_init arguments will be overwritten.\n",
      "\u001b[32m[0814 17:38:06 @config.py:225]\u001b[0m Found history statistics from JSON. Overwrite the starting epoch to epoch #11.\n",
      "\u001b[32m[0814 17:38:06 @input_source.py:205]\u001b[0m Setting up the queue 'QueueInput/input_queue' for CPU prefetching ...\n",
      "\u001b[32m[0814 17:38:06 @trainers.py:51]\u001b[0m Building graph for a single training tower ...\n",
      "\u001b[32m[0814 17:38:06 @registry.py:121]\u001b[0m conv0 input: [None, 28, 28, 1]\n",
      "\u001b[32m[0814 17:38:06 @registry.py:129]\u001b[0m conv0 output: [None, 28, 28, 32]\n",
      "\u001b[32m[0814 17:38:06 @registry.py:121]\u001b[0m pool0 input: [None, 28, 28, 32]\n",
      "\u001b[32m[0814 17:38:06 @registry.py:129]\u001b[0m pool0 output: [None, 14, 14, 32]\n",
      "\u001b[32m[0814 17:38:06 @registry.py:121]\u001b[0m conv1 input: [None, 14, 14, 32]\n",
      "\u001b[32m[0814 17:38:06 @registry.py:129]\u001b[0m conv1 output: [None, 14, 14, 64]\n",
      "\u001b[32m[0814 17:38:06 @registry.py:121]\u001b[0m pool1 input: [None, 14, 14, 64]\n",
      "\u001b[32m[0814 17:38:06 @registry.py:129]\u001b[0m pool1 output: [None, 7, 7, 64]\n",
      "\u001b[32m[0814 17:38:06 @registry.py:121]\u001b[0m conv2 input: [None, 7, 7, 64]\n",
      "\u001b[32m[0814 17:38:06 @registry.py:129]\u001b[0m conv2 output: [None, 7, 7, 128]\n",
      "\u001b[32m[0814 17:38:06 @registry.py:121]\u001b[0m pool2 input: [None, 7, 7, 128]\n",
      "\u001b[32m[0814 17:38:06 @registry.py:129]\u001b[0m pool2 output: [None, 3, 3, 128]\n",
      "\u001b[32m[0814 17:38:06 @registry.py:121]\u001b[0m fc1 input: [None, 3, 3, 128]\n",
      "\u001b[32m[0814 17:38:06 @registry.py:129]\u001b[0m fc1 output: [None, 10]\n",
      "\u001b[32m[0814 17:38:07 @model_utils.py:64]\u001b[0m \u001b[36mTrainable Variables: \n",
      "\u001b[0mname       shape              dim\n",
      "---------  ---------------  -----\n",
      "conv0/W:0  [3, 3, 1, 32]      288\n",
      "conv0/b:0  [32]                32\n",
      "conv1/W:0  [3, 3, 32, 64]   18432\n",
      "conv1/b:0  [64]                64\n",
      "conv2/W:0  [3, 3, 64, 128]  73728\n",
      "conv2/b:0  [128]              128\n",
      "fc1/W:0    [1152, 10]       11520\n",
      "fc1/b:0    [10]                10\u001b[36m\n",
      "Total #vars=8, #params=104202, size=0.40MB\u001b[0m\n",
      "\u001b[32m[0814 17:38:07 @base.py:187]\u001b[0m Setup callbacks graph ...\n",
      "\u001b[32m[0814 17:38:07 @inference_runner.py:146]\u001b[0m [InferenceRunner] Building tower 'InferenceTower' on device /gpu:0 ...\n",
      "\u001b[32m[0814 17:38:07 @summary.py:38]\u001b[0m Maintain moving average summary of 2 tensors in collection MOVING_SUMMARY_OPS.\n",
      "\u001b[32m[0814 17:38:07 @summary.py:75]\u001b[0m Summarizing collection 'summaries' of size 4.\n",
      "\u001b[32m[0814 17:38:07 @base.py:205]\u001b[0m Creating the session ...\n",
      "INFO:tensorflow:Graph was finalized.\n",
      "INFO:tensorflow:Running local_init_op.\n",
      "INFO:tensorflow:Done running local_init_op.\n",
      "\u001b[32m[0814 17:38:07 @base.py:211]\u001b[0m Initializing the session ...\n",
      "\u001b[32m[0814 17:38:07 @sessinit.py:117]\u001b[0m Restoring checkpoint from ./mnist_result/model-6000 ...\n",
      "INFO:tensorflow:Restoring parameters from ./mnist_result/model-6000\n",
      "\u001b[32m[0814 17:38:07 @base.py:218]\u001b[0m Graph Finalized.\n",
      "\u001b[32m[0814 17:38:07 @concurrency.py:37]\u001b[0m Starting EnqueueThread QueueInput/input_queue ...\n",
      "\u001b[32m[0814 17:38:07 @steps.py:126]\u001b[0m Start training with global_step=6000\n",
      "\u001b[32m[0814 17:38:07 @inference_runner.py:101]\u001b[0m [InferenceRunner] Will eval 100 iterations\n",
      "\u001b[32m[0814 17:38:07 @monitor.py:317]\u001b[0m Found existing JSON inside ./mnist_result, will append to it.\n",
      "\u001b[32m[0814 17:38:07 @base.py:250]\u001b[0m Start Epoch 11 ...\n"
     ]
    },
    {
     "name": "stderr",
     "output_type": "stream",
     "text": [
      "100%|##########|600/600[01:26<00:00, 6.96it/s]"
     ]
    },
    {
     "name": "stdout",
     "output_type": "stream",
     "text": [
      "\u001b[32m[0814 17:39:34 @base.py:260]\u001b[0m Epoch 11 (global_step 6600) finished, time:1 minute 26 seconds.\n",
      "\u001b[32m[0814 17:39:34 @saver.py:77]\u001b[0m Model saved to ./transfer/model-6600.\n"
     ]
    },
    {
     "name": "stderr",
     "output_type": "stream",
     "text": [
      "\n",
      "100%|##########|100/100[00:05<00:00,18.03it/s]"
     ]
    },
    {
     "name": "stdout",
     "output_type": "stream",
     "text": [
      "\u001b[32m[0814 17:39:39 @monitor.py:435]\u001b[0m QueueInput/queue_size: 50\n",
      "\u001b[32m[0814 17:39:39 @monitor.py:435]\u001b[0m accuracy: 0.94823\n",
      "\u001b[32m[0814 17:39:39 @monitor.py:435]\u001b[0m lr: 0.0003\n",
      "\u001b[32m[0814 17:39:39 @monitor.py:435]\u001b[0m train_error: 0.051774\n",
      "\u001b[32m[0814 17:39:39 @monitor.py:435]\u001b[0m validation_Loss: 0.061184\n",
      "\u001b[32m[0814 17:39:39 @monitor.py:435]\u001b[0m validation_accuracy: 0.9856\n",
      "\u001b[32m[0814 17:39:39 @group.py:48]\u001b[0m Callbacks took 5.574 sec in total. InferenceRunner: 5.55 seconds\n",
      "\u001b[32m[0814 17:39:39 @base.py:250]\u001b[0m Start Epoch 12 ...\n"
     ]
    },
    {
     "name": "stderr",
     "output_type": "stream",
     "text": [
      "\n",
      "100%|##########|600/600[01:26<00:00, 7.30it/s]"
     ]
    },
    {
     "name": "stdout",
     "output_type": "stream",
     "text": [
      "\u001b[32m[0814 17:41:05 @base.py:260]\u001b[0m Epoch 12 (global_step 7200) finished, time:1 minute 26 seconds.\n",
      "\u001b[32m[0814 17:41:05 @saver.py:77]\u001b[0m Model saved to ./transfer/model-7200.\n"
     ]
    },
    {
     "name": "stderr",
     "output_type": "stream",
     "text": [
      "\n",
      "100%|##########|100/100[00:05<00:00,17.84it/s]"
     ]
    },
    {
     "name": "stdout",
     "output_type": "stream",
     "text": [
      "\u001b[32m[0814 17:41:11 @monitor.py:435]\u001b[0m QueueInput/queue_size: 50\n",
      "\u001b[32m[0814 17:41:11 @monitor.py:435]\u001b[0m accuracy: 0.94186\n",
      "\u001b[32m[0814 17:41:11 @monitor.py:435]\u001b[0m lr: 0.0003\n",
      "\u001b[32m[0814 17:41:11 @monitor.py:435]\u001b[0m train_error: 0.058136\n",
      "\u001b[32m[0814 17:41:11 @monitor.py:435]\u001b[0m validation_Loss: 0.057191\n",
      "\u001b[32m[0814 17:41:11 @monitor.py:435]\u001b[0m validation_accuracy: 0.9856\n",
      "\u001b[32m[0814 17:41:11 @group.py:48]\u001b[0m Callbacks took 5.628 sec in total. InferenceRunner: 5.61 seconds\n",
      "\u001b[32m[0814 17:41:11 @base.py:250]\u001b[0m Start Epoch 13 ...\n"
     ]
    },
    {
     "name": "stderr",
     "output_type": "stream",
     "text": [
      "\n",
      "100%|##########|600/600[01:26<00:00, 6.91it/s]"
     ]
    },
    {
     "name": "stdout",
     "output_type": "stream",
     "text": [
      "\u001b[32m[0814 17:42:38 @base.py:260]\u001b[0m Epoch 13 (global_step 7800) finished, time:1 minute 26 seconds.\n",
      "\u001b[32m[0814 17:42:38 @saver.py:77]\u001b[0m Model saved to ./transfer/model-7800.\n"
     ]
    },
    {
     "name": "stderr",
     "output_type": "stream",
     "text": [
      "\n",
      "100%|##########|100/100[00:06<00:00,16.11it/s]"
     ]
    },
    {
     "name": "stdout",
     "output_type": "stream",
     "text": [
      "\u001b[32m[0814 17:42:44 @monitor.py:435]\u001b[0m QueueInput/queue_size: 50\n",
      "\u001b[32m[0814 17:42:44 @monitor.py:435]\u001b[0m accuracy: 0.94769\n",
      "\u001b[32m[0814 17:42:44 @monitor.py:435]\u001b[0m lr: 0.0003\n",
      "\u001b[32m[0814 17:42:44 @monitor.py:435]\u001b[0m train_error: 0.052311\n",
      "\u001b[32m[0814 17:42:44 @monitor.py:435]\u001b[0m validation_Loss: 0.056378\n",
      "\u001b[32m[0814 17:42:44 @monitor.py:435]\u001b[0m validation_accuracy: 0.9857\n",
      "\u001b[32m[0814 17:42:44 @group.py:48]\u001b[0m Callbacks took 6.237 sec in total. InferenceRunner: 6.21 seconds\n",
      "\u001b[32m[0814 17:42:44 @base.py:250]\u001b[0m Start Epoch 14 ...\n"
     ]
    },
    {
     "name": "stderr",
     "output_type": "stream",
     "text": [
      "\n",
      "100%|##########|600/600[01:26<00:00, 7.16it/s]"
     ]
    },
    {
     "name": "stdout",
     "output_type": "stream",
     "text": [
      "\u001b[32m[0814 17:44:10 @base.py:260]\u001b[0m Epoch 14 (global_step 8400) finished, time:1 minute 26 seconds.\n",
      "\u001b[32m[0814 17:44:10 @saver.py:77]\u001b[0m Model saved to ./transfer/model-8400.\n"
     ]
    },
    {
     "name": "stderr",
     "output_type": "stream",
     "text": [
      "\n",
      "100%|##########|100/100[00:05<00:00,18.68it/s]"
     ]
    },
    {
     "name": "stdout",
     "output_type": "stream",
     "text": [
      "\u001b[32m[0814 17:44:16 @monitor.py:435]\u001b[0m QueueInput/queue_size: 50\n",
      "\u001b[32m[0814 17:44:16 @monitor.py:435]\u001b[0m accuracy: 0.94692\n",
      "\u001b[32m[0814 17:44:16 @monitor.py:435]\u001b[0m lr: 0.0003\n",
      "\u001b[32m[0814 17:44:16 @monitor.py:435]\u001b[0m train_error: 0.053084\n",
      "\u001b[32m[0814 17:44:16 @monitor.py:435]\u001b[0m validation_Loss: 0.056021\n",
      "\u001b[32m[0814 17:44:16 @monitor.py:435]\u001b[0m validation_accuracy: 0.9871\n",
      "\u001b[32m[0814 17:44:16 @group.py:48]\u001b[0m Callbacks took 5.374 sec in total. InferenceRunner: 5.36 seconds\n",
      "\u001b[32m[0814 17:44:16 @base.py:250]\u001b[0m Start Epoch 15 ...\n"
     ]
    },
    {
     "name": "stderr",
     "output_type": "stream",
     "text": [
      "\n",
      "100%|##########|600/600[01:24<00:00, 7.05it/s]"
     ]
    },
    {
     "name": "stdout",
     "output_type": "stream",
     "text": [
      "\u001b[32m[0814 17:45:41 @base.py:260]\u001b[0m Epoch 15 (global_step 9000) finished, time:1 minute 24 seconds.\n",
      "\u001b[32m[0814 17:45:41 @saver.py:77]\u001b[0m Model saved to ./transfer/model-9000.\n"
     ]
    },
    {
     "name": "stderr",
     "output_type": "stream",
     "text": [
      "\n",
      "100%|##########|100/100[00:05<00:00,18.98it/s]"
     ]
    },
    {
     "name": "stdout",
     "output_type": "stream",
     "text": [
      "\u001b[32m[0814 17:45:46 @monitor.py:435]\u001b[0m QueueInput/queue_size: 50\n",
      "\u001b[32m[0814 17:45:46 @monitor.py:435]\u001b[0m accuracy: 0.95449\n",
      "\u001b[32m[0814 17:45:46 @monitor.py:435]\u001b[0m lr: 0.0003\n",
      "\u001b[32m[0814 17:45:46 @monitor.py:435]\u001b[0m train_error: 0.045515\n",
      "\u001b[32m[0814 17:45:46 @monitor.py:435]\u001b[0m validation_Loss: 0.052748\n",
      "\u001b[32m[0814 17:45:46 @monitor.py:435]\u001b[0m validation_accuracy: 0.9865\n",
      "\u001b[32m[0814 17:45:46 @group.py:48]\u001b[0m Callbacks took 5.291 sec in total. InferenceRunner: 5.27 seconds\n",
      "\u001b[32m[0814 17:45:46 @base.py:264]\u001b[0m Training has finished!\n"
     ]
    },
    {
     "name": "stderr",
     "output_type": "stream",
     "text": [
      "\n"
     ]
    },
    {
     "name": "stdout",
     "output_type": "stream",
     "text": [
      "\u001b[32m[0814 17:45:46 @input_source.py:160]\u001b[0m EnqueueThread QueueInput/input_queue Exited.\n"
     ]
    }
   ],
   "source": [
    "config = AutoResumeTrainConfig(\n",
    "    model = Model(),\n",
    "    session_init = get_model_loader('./mnist_result/model-6000.index'),\n",
    "    data = QueueInput(df),\n",
    "    callbacks = [\n",
    "        # save the model after every epoch\n",
    "        ModelSaver(checkpoint_dir='./transfer'),\n",
    "        InferenceRunner(\n",
    "            df_test,\n",
    "            ScalarStats(['Loss', 'accuracy'])),\n",
    "#         ScheduledHyperParamSetter('learning_rate',\n",
    "#                                   [(1, 0.1), \n",
    "#                                    (300, 0.01), \n",
    "#                                    (500, 0.001)])\n",
    "    ],\n",
    "    steps_per_epoch = steps_per_epoch,\n",
    "    max_epoch = 15,\n",
    ")\n",
    "\n",
    "launch_train_with_config(config, SimpleTrainer())"
   ]
  },
  {
   "cell_type": "markdown",
   "metadata": {},
   "source": [
    "### Evaluation\n",
    "* `Keywords`: **PredictConfig**, **SimpleDatasetPredictor**."
   ]
  },
  {
   "cell_type": "code",
   "execution_count": 9,
   "metadata": {
    "scrolled": true
   },
   "outputs": [
    {
     "name": "stdout",
     "output_type": "stream",
     "text": [
      "\u001b[32m[0814 15:31:02 @varmanip.py:182]\u001b[0m Checkpoint path ./mnist_result/model-6000.index is auto-corrected to ./mnist_result/model-6000.\n",
      "\u001b[32m[0814 15:31:02 @sessinit.py:90]\u001b[0m \u001b[5m\u001b[31mWRN\u001b[0m The following variables are in the checkpoint, but not found in the graph: beta1_power:0, beta2_power:0, global_step:0\n",
      "INFO:tensorflow:Graph was finalized.\n",
      "INFO:tensorflow:Running local_init_op.\n",
      "INFO:tensorflow:Done running local_init_op.\n",
      "\u001b[32m[0814 15:31:02 @sessinit.py:117]\u001b[0m Restoring checkpoint from ./mnist_result/model-6000 ...\n",
      "INFO:tensorflow:Restoring parameters from ./mnist_result/model-6000\n"
     ]
    }
   ],
   "source": [
    "model = Model()\n",
    "session = get_model_loader('./mnist_result/model-6000.index')\n",
    "\n",
    "pred_config = PredictConfig(\n",
    "        model=model,\n",
    "        session_init=session,\n",
    "        input_names=['input', 'label'],\n",
    "        output_names=['accuracy', 'Loss']\n",
    "    )\n",
    "pred = SimpleDatasetPredictor(pred_config, df_test)"
   ]
  },
  {
   "cell_type": "code",
   "execution_count": 26,
   "metadata": {},
   "outputs": [
    {
     "name": "stderr",
     "output_type": "stream",
     "text": [
      "100%|##########|100/100[00:04<00:00,20.11it/s]"
     ]
    },
    {
     "name": "stdout",
     "output_type": "stream",
     "text": [
      "Accuracy: 0.985\n",
      "Loss: 0.067\n"
     ]
    },
    {
     "name": "stderr",
     "output_type": "stream",
     "text": [
      "\n"
     ]
    }
   ],
   "source": [
    "accuracy = 0.0\n",
    "total_loss = 0.0\n",
    "\n",
    "for i, (acc, loss) in enumerate(pred.get_result()):\n",
    "    accuracy += acc \n",
    "    total_loss += loss\n",
    "    \n",
    "print(\"Accuracy: {:0.3f}\".format(accuracy/(i+1)))\n",
    "print(\"Loss: {:0.3f}\".format(total_loss/(i+1)))"
   ]
  }
 ],
 "metadata": {
  "kernelspec": {
   "display_name": "Python 3",
   "language": "python",
   "name": "python3"
  },
  "language_info": {
   "codemirror_mode": {
    "name": "ipython",
    "version": 3
   },
   "file_extension": ".py",
   "mimetype": "text/x-python",
   "name": "python",
   "nbconvert_exporter": "python",
   "pygments_lexer": "ipython3",
   "version": "3.6.1"
  }
 },
 "nbformat": 4,
 "nbformat_minor": 2
}
